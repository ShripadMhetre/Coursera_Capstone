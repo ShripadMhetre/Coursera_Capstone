{
 "cells": [
  {
   "cell_type": "markdown",
   "metadata": {},
   "source": [
    "# Coursera Capstone Project - The Battle of Neighbourhoods"
   ]
  },
  {
   "cell_type": "markdown",
   "metadata": {},
   "source": [
    "This notebook will be mainly used for IBM Applied Data Science Capstone course on Coursera."
   ]
  },
  {
   "cell_type": "markdown",
   "metadata": {},
   "source": [
    "## Introduction"
   ]
  },
  {
   "cell_type": "markdown",
   "metadata": {},
   "source": [
    "New Delhi is the capital city of India. It is a part of the city of Delhi’s 11 districts. The city itself has large population. However, the much larger metro area has a population that exceeds 30 million.\n",
    "\n",
    "With Delhi's diverse culture , comes diverse food items. There are many restaurants in New Delhi City, each belonging to different categories like Chinese , Italian , French etc. So as part of this project , we will list and visualise all major parts of New Delhi City ."
   ]
  },
  {
   "cell_type": "markdown",
   "metadata": {},
   "source": [
    "### Questions that can be asked as part of our problem statement\n",
    "\n",
    "* What is the best location in New Delhi City for Chinese Cuisine?\n",
    "* Which areas have large number of Chinese Resturants?\n",
    "* Which all areas have less number of resturants?\n",
    "* Which is the best place to stay if someone prefer Chinese Cuisine?"
   ]
  },
  {
   "cell_type": "markdown",
   "metadata": {},
   "source": [
    "### Intended Audience"
   ]
  },
  {
   "cell_type": "markdown",
   "metadata": {},
   "source": [
    "1. People or Customers who want to know where they can enjoy the food they want.\n",
    "2. Business persons who want to start their restaurant and analyzing the right locality for the restaurant according to food they serve.\n",
    "3. Government or Any organization who wants to analyze the New Delhi Restaurants data and localities where particular type of food is being liked by the people."
   ]
  },
  {
   "cell_type": "markdown",
   "metadata": {},
   "source": [
    "### Data"
   ]
  },
  {
   "cell_type": "markdown",
   "metadata": {},
   "source": [
    "* New Delhi Resturants data that contains list Locality, Resturant name,Rating along with their latitude and longitude\n",
    "    * __Data source__ : [Zomato kaggel dataset](https://www.kaggle.com/shrutimehta/zomato-restaurants-data)\n",
    "    * __Description of Data__: This dataset contains the locality of different restaurants, along with their ratings given by customers. The Latitude and Longitude are also provided.\n",
    "    * __Example__: if i want to know best locality of chinese restaurant in New Delhi city then from dataset, we will group the restaurants in the same locality\n",
    "* Nearby places in each locality of new delhi city\n",
    "    * __Data source__ : [Fousquare API](https://developer.foursquare.com/)\n",
    "    * __Description__: The foursquare api will be used to get all the nearby venues in each neighborhood.\n",
    "    * __Example__: Using this we will find the venues in all or selected neighborhood. And then by filtering out nearby locality and the aggregating the rating of each restaurant, we get the best places."
   ]
  },
  {
   "cell_type": "markdown",
   "metadata": {},
   "source": [
    "## Approach"
   ]
  },
  {
   "cell_type": "markdown",
   "metadata": {},
   "source": [
    "* Collect the new delhi city data from Zomato kaggel dataset.\n",
    "* Using FourSquare API we will find all venues for each neighborhood.\n",
    "* Filter out all venues that are nearby by locality.\n",
    "* Using aggregative rating for each resturant to find the best places.\n",
    "* Visualize the Ranking of neighborhoods using folium library(python)."
   ]
  },
  {
   "cell_type": "code",
   "execution_count": null,
   "metadata": {},
   "outputs": [],
   "source": []
  }
 ],
 "metadata": {
  "kernelspec": {
   "display_name": "Python 3",
   "language": "python",
   "name": "python3"
  },
  "language_info": {
   "codemirror_mode": {
    "name": "ipython",
    "version": 3
   },
   "file_extension": ".py",
   "mimetype": "text/x-python",
   "name": "python",
   "nbconvert_exporter": "python",
   "pygments_lexer": "ipython3",
   "version": "3.7.4"
  }
 },
 "nbformat": 4,
 "nbformat_minor": 2
}
